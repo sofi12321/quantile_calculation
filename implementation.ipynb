{
 "cells": [
  {
   "cell_type": "markdown",
   "id": "73a4b794",
   "metadata": {
    "id": "73a4b794"
   },
   "source": [
    "# Approximate Quantile Computation on Large-Scale Data\n",
    "\n",
    "February 2023\n",
    "\n",
    "## Task description\n",
    "\n",
    "* Realize Greenwald & Khanna's quantile algorithm from the research paper titled [\"A Survey of Approximate Quantile Computation on Large-Scale Data\"](https://arxiv.org/pdf/2004.08255.pdf)\n",
    "\n",
    "* Use BasicQuantileAlgorithm as a base class for realization\n",
    "\n",
    "* Test the alghoritm at page \"Test\""
   ]
  },
  {
   "cell_type": "markdown",
   "id": "b3d7e042",
   "metadata": {
    "id": "b3d7e042"
   },
   "source": [
    "## Abstract implementation\n",
    "\n",
    "A basic class for the implementation"
   ]
  },
  {
   "cell_type": "code",
   "execution_count": 25,
   "id": "587fd14b",
   "metadata": {
    "id": "587fd14b"
   },
   "outputs": [],
   "source": [
    "from typing import List\n",
    "\n",
    "class BasicQuantileAlgorithm:\n",
    "    \"\"\"\n",
    "    Abstract class for quantile computing algorithm\n",
    "    \"\"\"\n",
    "    \n",
    "    def __init__(self) -> None:\n",
    "        \"\"\"\n",
    "        Initializer for algorithm\n",
    "        \"\"\"\n",
    "    \n",
    "    def compute_quantile(self, q) -> float:\n",
    "        \"\"\"\n",
    "        Implementation of some quantile algorithm\n",
    "        \"\"\"\n",
    "        raise NotImplementedError('compute_quantile is not implemented')\n",
    "    \n",
    "    def compute(self, q) -> float:\n",
    "        assert 0.0 <= q <= 1.0, f\"q should be in [0;1]. Got {q}\"\n",
    "        \"\"\"\n",
    "        Compute the q-th quantile\n",
    "        \n",
    "        Hides implementation of _compute_quantile. \n",
    "        \n",
    "        :param q: Quantile to compute, which must be between 0 and 1 inclusive\n",
    "        :return: q-th quantile\n",
    "        \"\"\"\n",
    "        return self.compute_quantile(q)\n",
    "    \n",
    "    # NOTE: multi_compute is just a basic function\n",
    "    # for computing multiple quantile with one function call. \n",
    "    # This can be modified, so that multiple quantiles\n",
    "    # calculation become efficient. \n",
    "    def multi_compute(self, qs) -> List[float]:\n",
    "        \"\"\"\n",
    "        Compute multiple q-th quantiles\n",
    "        \n",
    "        :param qs: list of quantiles to compute, \n",
    "            all should be between 0 and 1 inclusive\n",
    "        :return: list of computed quantiles\n",
    "        \"\"\"\n",
    "        return [self.compute(q) for q in qs]"
   ]
  },
  {
   "cell_type": "code",
   "execution_count": 26,
   "id": "81b7c33c",
   "metadata": {
    "id": "81b7c33c"
   },
   "outputs": [],
   "source": [
    "import numpy as np\n",
    "\n",
    "class NumpyQuantileAlgorithm(BasicQuantileAlgorithm):\n",
    "    \"\"\"\n",
    "    Example of quantile algorithm\n",
    "    \n",
    "    This algorithm implementation is \n",
    "    based on the numpy.quantile. \n",
    "    \"\"\"\n",
    "    def __init__(self):\n",
    "        \"\"\"\n",
    "        Initializer of the class. \n",
    "        \n",
    "        It initializes self.data with empty list\n",
    "        \"\"\"\n",
    "        self.data = []\n",
    "    \n",
    "    def add_item(self, item):\n",
    "        \"\"\"\n",
    "        Adds an item to the existing data\n",
    "        \"\"\"\n",
    "        self.data.append(item)\n",
    "    \n",
    "    def add_multiple_items(self, items):\n",
    "        \"\"\"\n",
    "        Adds multiple items to the existing data\n",
    "        \"\"\"\n",
    "        self.data += items\n",
    "    \n",
    "    def compute_quantile(self, q) -> float:\n",
    "        \"\"\"\n",
    "        Compute the q-th quantile\n",
    "        \n",
    "        :param q: Quantile to compute, which must be between 0 and 1 inclusive\n",
    "        :return: q-th quantile\n",
    "        \"\"\"\n",
    "        return np.quantile(self.data, q)\n",
    "    \n",
    "    # NOTE: Here, for multi_compute we\n",
    "    # can just call the same function\n",
    "    # compute_quantile, because it could\n",
    "    # take a vector of multiple quantiles.\n",
    "    # This is more efficient, than basic \n",
    "    # function call, because of the \n",
    "    # vectorized implementation.\n",
    "    def multi_compute(self, qs) -> List[float]:\n",
    "        \"\"\"\n",
    "        Compute multiple q-th quantiles\n",
    "        \n",
    "        :param qs: list of quantiles to compute, \n",
    "            all should be between 0 and 1 inclusive\n",
    "        :return: list of computed quantiles\n",
    "        \"\"\"\n",
    "        return list(self.compute_quantile(qs))"
   ]
  },
  {
   "cell_type": "code",
   "execution_count": 27,
   "id": "bd9b84e6",
   "metadata": {
    "id": "bd9b84e6"
   },
   "outputs": [],
   "source": [
    "class GK01QuantileAlgorithm(BasicQuantileAlgorithm):\n",
    "    \"\"\"\n",
    "   Realization of Greenwald & Khanna's quantile algorithm\n",
    "\n",
    "   \"\"\"\n",
    "\n",
    "    def __init__(self, eps=0.01):\n",
    "        \"\"\"\n",
    "      Initializer of the class.\n",
    "\n",
    "      It initializes self.epsilon with the given parameter eps or by default 0.01,\n",
    "      self.n with 0 (number of the received elements) and\n",
    "      self.summary with empty list. \n",
    "      \n",
    "      Summary is a data structure special for GK01, in my implementation \n",
    "      it is represented as an array of arrays. \n",
    "      Each subarray i consist of 3 elements: v_i, g_i, d_i, \n",
    "      where v_i is a data point, \n",
    "      g_i = rank_min(v_i) - rank_min(v_{i-1}), \n",
    "      d = rank_max(v_i) - rank_min(v_i). \n",
    "      Note that v_i <= v_{i+1} for all elements in the summary.\n",
    "\n",
    "      :param eps: epsilon approximation\n",
    "      \"\"\"\n",
    "        self.n = 0\n",
    "        self.summary = []\n",
    "        self.epsilon = eps\n",
    "\n",
    "\n",
    "    def find_position(self, item):\n",
    "        \"\"\"\n",
    "        Binary search algorithm\n",
    "        Find position i to insert the item, where v_(i-1)<=item<v_(i)\n",
    "        :param item: element for finding the position\n",
    "        \"\"\"\n",
    "        # If no elements in the summary, item will be the first\n",
    "        if len(self.summary) == 0:\n",
    "            return 0\n",
    "        # If item is new max or min in summary\n",
    "        if item < self.summary[0][0]:\n",
    "            return 0\n",
    "        if item >= self.summary[-1][0]:\n",
    "            return len(self.summary)\n",
    "\n",
    "        # Binary search\n",
    "        start = 0\n",
    "        stop = len(self.summary) - 1\n",
    "        cur_pos = int((start + stop) / 2)\n",
    "        while not (self.summary[cur_pos - 1][0] <= item < self.summary[cur_pos][0]):\n",
    "            if start == cur_pos:\n",
    "                cur_pos = stop\n",
    "            elif cur_pos == stop:\n",
    "                cur_pos = start\n",
    "            elif self.summary[cur_pos][0] <= item:\n",
    "                start = cur_pos\n",
    "                cur_pos = int((start + stop) / 2)\n",
    "            else:\n",
    "                stop = cur_pos\n",
    "                cur_pos = int((start + stop) / 2)\n",
    "        return cur_pos\n",
    "\n",
    "    def delete(self):\n",
    "        \"\"\"\n",
    "        Check which of the elements in the summary can be merged into one.\n",
    "        Look for all possible sequences in the summary, where \n",
    "        d_{i}+g_{j}+...+g_{i} <= 2*epsilon*N for j<i, j is minimal, i is maximal possible index. \n",
    "        Each sequence will be replaced with the new entry [v_{i}, g_{j}+...+g_{i}, d_{i}]. \n",
    "        \"\"\"\n",
    "        for i in range(len(self.summary) - 2, 0, -1):\n",
    "            j = i - 1\n",
    "            if not ((0 <= j <= len(self.summary) - 1) and (0 <= i <= len(self.summary) - 1)):\n",
    "                continue\n",
    "            # sum is equal to d_{i}+g_{j}+...+g_{i}\n",
    "            sum = self.summary[i][1] + self.summary[i][2] + self.summary[j][1]\n",
    "\n",
    "            # Find minimal j such that condition sum< 2*epsilon*N holds\n",
    "            while (j >= 0) and (sum < 2 * self.n * self.epsilon):\n",
    "                j -= 1\n",
    "                sum += self.summary[j][1]\n",
    "            j += 1\n",
    "            if j < i:\n",
    "                # Replace the obtained sequence from the summary \n",
    "                # with new element [v_{i}, g_{j}+...+g_{i}, d_{i}]\n",
    "                self.summary[i][1] = sum - self.summary[i][2] - self.summary[j - 1][1]\n",
    "                del self.summary[j:i]\n",
    "\n",
    "    def add_item(self, item):\n",
    "        \"\"\"\n",
    "        Add an item to the summary\n",
    "        :param item: one element from a stream\n",
    "        \"\"\"\n",
    "        # Perform a deletion when each floor(1 / (2 * self.epsilon)) element arrives\n",
    "        if self.n % int(1 / (2 * self.epsilon)) == 0:\n",
    "            self.delete()\n",
    "        \n",
    "        # Find position i to insert the item, where v_(i-1)<=item<v_(i)\n",
    "        ind = self.find_position(item)\n",
    "\n",
    "        # Insert an item in the Summary\n",
    "        if ind == len(self.summary):\n",
    "          # item is bigger than the last element in the summary\n",
    "            self.summary.append([item, 1, 0]) \n",
    "        elif ind == 0:\n",
    "          # item is less than the firt element in the summary\n",
    "            self.summary.insert(0, [item, 1, 0])\n",
    "        else:\n",
    "            self.summary.insert(ind, [item, 1, self.summary[ind][1] + self.summary[ind][2] - 1])\n",
    "\n",
    "        # Update the number of elements\n",
    "        self.n += 1\n",
    "\n",
    "\n",
    "    def add_multiple_items(self, items):\n",
    "        \"\"\"\n",
    "      Add multiple items to the summary one by one\n",
    "      :param items: a list of items arrived from a stream\n",
    "      \"\"\"\n",
    "        for i in items:\n",
    "            self.add_item(i)\n",
    "\n",
    "    def compute_quantile(self, q) -> float:\n",
    "        \"\"\"\n",
    "        Compute the q-th quantile\n",
    "\n",
    "        :param q: Quantile to compute, which must be between 0 and 1 inclusive\n",
    "        :return: q-th quantile\n",
    "        \"\"\"\n",
    "        # If sammari does not contain any elements yet\n",
    "        if len(self.summary) ==0:\n",
    "            return 0\n",
    "        \n",
    "        # Calculate a range within which the interesting quantile lies\n",
    "        err = int(self.epsilon * self.n)\n",
    "        r = int(q * self.n)\n",
    "        if r >= self.n - err:\n",
    "            return self.summary[-1][0]\n",
    "        sum = 0\n",
    "        # Find v_i  with minimum  i  for which  rank_max(v_{i+1})>(q+ϵ)N .\n",
    "        for i in range(len(self.summary)):\n",
    "            sum += self.summary[i][1]\n",
    "            if sum + self.summary[i][2] > r + err:\n",
    "                return self.summary[i - 1][0]\n",
    "        return self.summary[0][0]\n",
    "\n",
    "    def multi_compute(self, qs) -> List[float]:\n",
    "        \"\"\"\n",
    "      Compute multiple q-th quantiles\n",
    "\n",
    "      :param qs: list of quantiles to compute,\n",
    "          all should be between 0 and 1 inclusive\n",
    "      :return: list of computed quantiles\n",
    "      \"\"\"\n",
    "        return [self.compute_quantile(i) for i in qs]\n"
   ]
  },
  {
   "cell_type": "markdown",
   "id": "0593d5d4",
   "metadata": {
    "id": "0593d5d4"
   },
   "source": [
    "\n",
    "> REPORT ABOUT THE ALGORITHM\n",
    "\n",
    "### Explanation of GK01 algorithm\n",
    "\n",
    "#### Basic terms\n",
    "\n",
    "The naive algorithm for finding q-th quantile is to get an element at $⌊qN⌋$-th position (i.e. rank) in a sorted sequence of N elements.\n",
    "However, this algorithm has a huge space consuption for big amount of stream data (elements arrive one by one). \n",
    "To decrease the number of elements stored in the memory, one may allow $\\epsilon$ approximation of q-th quantile, when any element with rank in the range $[rank_{min}; rank_{max}]$, where $rank_{min} = ⌊(q-\\epsilon)N⌋$ and $rank_{max} = ⌊(q+\\epsilon)N⌋$, could be the answer.\n",
    "\n",
    "A Greenwald & Khannan's algorithm (GK01) is based on the data structure named Summary. In my implementation it is represented as an array of arrays. Each subarray consist of 3 elements: $v, g, d$, where $v$ is a data point, $g$ is a difference between $rank_{min}$ of current element and $rank_{min}$ of element before it, $d$ is a difference between $rank_{max}$ and $rank_{min}$ of current data point. Note that $d=0$ for the first and last elements and $v_{i} ≤ v_{i+1}$ for all elements in the summary.\n",
    "\n",
    "* $g_{0}=rank_{min}(v_{0})=1$\n",
    "\n",
    "* $g_{i}=rank_{min}(v_{i})-rank_{min}(v_{i-1})$\n",
    "\n",
    "* $d_{i}=rank_{max}(v_{i})-rank_{min}(v_{i})$\n",
    "\n",
    "* $rank_{min}(v_{i})= \\sum \\limits _{j=0} ^{i} g_{j}$\n",
    "\n",
    "* $rank_{max}(v_{i})= d_{i} + \\sum \\limits _{j=0} ^{i} g_{j}$\n",
    "\n",
    "\n",
    "<!-- !!! * $err=\\frac{\\max \\limits _{j \\in N} (g_{j}+d_{j})}{2}$\n",
    "\n",
    "* $rank(v_{i}) - err <= rank_{min}(v_{i}) <= rank(v_{i}) <= rank_{max}(v_{i}) <= rank(v_{i}) + err$ -->\n",
    "\n",
    "\n",
    "### Algoritm explanation\n",
    "\n",
    "Insertion of the element based on 4 steps:\n",
    "1. Find position i to insert this element, where $ v_{i-1}≤element<v_{i}$;\n",
    "2. Set $g=1$ and $d=0$ for element that will be inserted in the head or tail of Summary, or $g=1$ and $d=g_i+d_i-1$ otherwise;\n",
    "3. Insert the element at $i$-th position with the right shift of elements with indexes $≥ i$;\n",
    "4. Increment the number of arrived elements.\n",
    "\n",
    "To use $\\epsilon$-approximate $q$-th quantile, on each $2 \\epsilon N$ step the deletion operation is performed:\n",
    "1. Look for all possible sequences in the summary, where $d_{i}+\\sum \\limits_{k=j}^{i} g_{k} ≤ 2 \\epsilon N $ for $j<i$, $ j $ is minimal and $ i $ is maximal possible index. \n",
    "2. Each sequence will be replaced with the new entry  $[v_{i}, \\sum \\limits_{k=j}^{i} g_{k}, d_{i}]$. \n",
    "\n",
    "To find $q$-th quantile, an algorithm calculates rank $r=⌊qN⌋$. For $r>N-\\epsilon N$, the result is the last element in the summary, otherwise the answer is $v_{i} $ with minimum $i $ for which $rank_{max}(v_{i+1})> (q+\\epsilon)N $.\n",
    "\n",
    "\n",
    "### Time and space consumption comparison\n",
    "> Add comparison of the time and space consumption (with numpy algorithm). Plot them depending on the sample size or time if your algorithm is for time-series quantile calculation.\n",
    "\n",
    "The GK01 algorithm is a streaming algorithm, it depends on the sample size. The analysis was conducted on the following sample sizes: [10, 100, 1000,5000, 10000, 50000, 100000, 500000,1000000]. \n",
    "\n",
    "Evaluated metrics were the running time of the algorithm and the space used for data storage. Note that the amount of memory occupied by objects of classes in which the solution is implemented is the same and equals to 48 bytes. Therefore, the evaluation of occupied space was conducted for structures storing data. \n",
    "\n",
    "The obtained results of each metric evaluation for both algorithms are presented in comparison table. For vizualization, 2 plots are shown. The first is the dependence of the metric on the samle size, the second is the dependence of log(metric) and log(sample size). These graphs help to understand how different the values are and how the metric grows with the growing of the sample size. \n",
    "\n",
    "The hold analysis showed that the GK01 algorithm is optimal in space, but its execution takes much more time than the NumPy's algorithm. \n",
    "\n",
    "### Advantages and disadvantages of GK01\n",
    "\n",
    "One of the biggest advantage of this algorithm is a small space consumption. It works well on a streaming data, when the number of elements is uncertain and may be large. Additionally, regardless of whether all the data has arrived to GK01 one can obtain a q-th quantile.\n",
    "\n",
    "However, GK01 has several disadvantages. First of all, the answer is not an exact q-th quantile, but its $\\epsilon$ approximate. Also, GK01 computes quantiles regarding all arrived data, while sometimes one can require the quantile of just some recent elements. Moreover, an implementation of this algorithm may have a low time perfomance on a big sample size."
   ]
  },
  {
   "cell_type": "code",
   "execution_count": 28,
   "id": "ae24065f",
   "metadata": {
    "id": "ae24065f"
   },
   "outputs": [],
   "source": [
    "import time\n",
    "import matplotlib.pyplot as plt\n",
    "import pandas as pd\n",
    "from sys import getsizeof\n",
    "\n",
    "# Conduct the analysis on different sample sizes \n",
    "# Observe running time and occupied space of both of the algorithms\n",
    "\n",
    "gk01_time_measure = []\n",
    "np_time_measure = []\n",
    "gk01_space_measure = []\n",
    "np_space_measure = []\n",
    "sample_sizes = np.array([10, 100, 1000,5000, 10000, 50000, 100000, 500000,1000000])\n",
    "\n",
    "for n in sample_sizes:\n",
    "    # Create a random sample of size n with a normal distribution\n",
    "    data = np.random.normal(0, 1, n).tolist()\n",
    "\n",
    "    # Compute the time and space consumption on n elements for NumPy algorithm\n",
    "    s_t = time.time()\n",
    "    npalg = NumpyQuantileAlgorithm()\n",
    "    npalg.add_multiple_items(data)\n",
    "    npalg.multi_compute([0.1, 0.2, 0.3, 0.5, 0.7, 0.8, 0.9])\n",
    "    e_t = time.time()\n",
    "    np_time_measure.append(e_t - s_t)\n",
    "    np_space_measure.append(getsizeof(npalg.data))\n",
    "\n",
    "    # Compute the time and space consumption on n elements for GK01 algorithm\n",
    "    s_t = time.time()\n",
    "    gk = GK01QuantileAlgorithm(0.05)\n",
    "    gk.add_multiple_items(data)\n",
    "    gk.multi_compute([0.1, 0.2, 0.3, 0.5, 0.7, 0.8, 0.9])\n",
    "    e_t = time.time()\n",
    "    gk01_time_measure.append(e_t - s_t)\n",
    "    gk01_space_measure.append(getsizeof(gk.summary))\n"
   ]
  },
  {
   "cell_type": "code",
   "execution_count": 29,
   "id": "WcjAwB40LViz",
   "metadata": {
    "id": "WcjAwB40LViz"
   },
   "outputs": [],
   "source": [
    "def interpret_data(sample_sizes, gk01_measure, np_measure, metric):\n",
    "    \"\"\"\n",
    "    Visualize the observed results on both GK01 and NumPy algorithms\n",
    "\n",
    "    :param sample_sizes: np.array of integers, sizes on which observations were made\n",
    "    :param gk01_measure: list of floats, the results obtained by GK01 algorithm\n",
    "    :param np_measure: list of floats, the results obtained by NumPy algorithm\n",
    "    :param metric: a string, the metric for which the study was conducted, \n",
    "                  e.g. 'time consumption'\n",
    "    \"\"\"\n",
    "    # Print the table of the received data\n",
    "    df = pd.DataFrame({'Sample size': sample_sizes, 'GK01': gk01_measure, 'NumPy': np_measure})\n",
    "    print(df)\n",
    "    print()\n",
    "\n",
    "    # Draw a plot that show metric - sample size dependency\n",
    "    plt.figure(figsize=(12, 5))\n",
    "    plt.subplot(121)\n",
    "    plt.plot(sample_sizes, gk01_measure)\n",
    "    plt.plot(sample_sizes, np_measure)\n",
    "    plt.legend(['GK01', 'NumPy'], loc=\"best\")\n",
    "    plt.ylabel(metric)\n",
    "    plt.xlabel('sample size')\n",
    "    plt.title(\"Dependency \"+metric+\" - sample size\")\n",
    "\n",
    "\n",
    "    # Draw a plot that show log(metric) - log(sample size) dependency\n",
    "    sample_sizes = np.log(sample_sizes)\n",
    "    gk01_measure = np.log(np.array(gk01_measure))\n",
    "    np_measure = np.log(np.array(np_measure))\n",
    "\n",
    "    plt.subplot(122)\n",
    "    plt.plot(sample_sizes, gk01_measure)\n",
    "    plt.plot(sample_sizes, np_measure)\n",
    "\n",
    "    plt.legend(['GK01', 'NumPy'], loc=\"best\")\n",
    "    plt.ylabel(\"log(\"+metric+\")\")\n",
    "    plt.xlabel('log(sample size)')\n",
    "    plt.title(\"Dependency log(\"+metric+\") - log(sample size)\")\n",
    "\n",
    "    plt.show()\n"
   ]
  },
  {
   "cell_type": "code",
   "execution_count": 30,
   "id": "19Q2Ck4PLFjB",
   "metadata": {
    "colab": {
     "base_uri": "https://localhost:8080/",
     "height": 541
    },
    "id": "19Q2Ck4PLFjB",
    "outputId": "f8ea2aa9-1a47-4e5e-8c83-9cba17793920"
   },
   "outputs": [
    {
     "name": "stdout",
     "output_type": "stream",
     "text": [
      "   Sample size      GK01     NumPy\n",
      "0           10  0.000099  0.001865\n",
      "1          100  0.000973  0.000334\n",
      "2         1000  0.009285  0.000449\n",
      "3         5000  0.030760  0.000886\n",
      "4        10000  0.067954  0.001348\n",
      "5        50000  0.344612  0.005374\n",
      "6       100000  0.649463  0.011076\n",
      "7       500000  3.085052  0.054517\n",
      "8      1000000  7.532557  0.117583\n",
      "\n"
     ]
    },
    {
     "data": {
      "image/png": "[encoded data removed]",
      "text/plain": [
       "<Figure size 864x360 with 2 Axes>"
      ]
     },
     "metadata": {
      "needs_background": "light"
     },
     "output_type": "display_data"
    }
   ],
   "source": [
    "# Show observations on the dependence of the algorithms' time consumption on the sample size\n",
    "interpret_data(sample_sizes, gk01_time_measure, np_time_measure, 'time consumption')"
   ]
  },
  {
   "cell_type": "code",
   "execution_count": 31,
   "id": "e79c77a4",
   "metadata": {
    "colab": {
     "base_uri": "https://localhost:8080/",
     "height": 593
    },
    "id": "e79c77a4",
    "outputId": "c301c70c-1121-4b5a-fdcc-714e691cb714"
   },
   "outputs": [
    {
     "name": "stdout",
     "output_type": "stream",
     "text": [
      "The size of the object of GK01 algorithm class is 48 bytes\n",
      "The size of the object of NumPy algorithm class is 48 bytes\n",
      "\n",
      "   Sample size  GK01    NumPy\n",
      "0           10   184      192\n",
      "1          100   328     1000\n",
      "2         1000   328     9104\n",
      "3         5000   296    45104\n",
      "4        10000   304    90104\n",
      "5        50000   304   450104\n",
      "6       100000   296   900104\n",
      "7       500000   296  4500104\n",
      "8      1000000   296  9000104\n",
      "\n"
     ]
    },
    {
     "data": {
      "image/png": "[encoded data removed]",
      "text/plain": [
       "<Figure size 864x360 with 2 Axes>"
      ]
     },
     "metadata": {
      "needs_background": "light"
     },
     "output_type": "display_data"
    }
   ],
   "source": [
    "# Note that the amount of memory occupied by objects of classes in which the solution is implemented is the same\n",
    "# Therefore, space consumption of their data storage was measured\n",
    "print('The size of the object of GK01 algorithm class is', getsizeof(gk), 'bytes')\n",
    "print('The size of the object of NumPy algorithm class is', getsizeof(npalg), 'bytes\\n')\n",
    "\n",
    "# Show observations on the dependence of the algorithms' space consumption on the sample size\n",
    "interpret_data(sample_sizes, gk01_space_measure, np_space_measure, 'space consumption')"
   ]
  },
  {
   "cell_type": "markdown",
   "id": "36aee6ac",
   "metadata": {
    "id": "36aee6ac"
   },
   "source": [
    "## Test\n",
    "\n",
    "Here you need to show that your algorithm is working properly.\n",
    "1. Take `normal` distribution. Show, that with increase in sample size, quantiles calculated with your algorithms are become very close to the `inverse cdf` of the distribution. \n",
    "\n",
    "2. Perform the same experiment with any other continuous distribution (exponential, logistic, etc.)\n",
    "\n",
    "The results of the performed analysis showed that the quantile tends to the  inverse cdf of the distribution with increasing sample size. Note that the tendency was influenced by the epsilon approximate of the quantile.\n",
    "Conducting this experiment on uniform, logistic and exponential distributions also showed that quantile becomes close to the inverse cdf of the distribution with increase in sample size. Based on obtained results, one can conclude that the algorithm works correctly."
   ]
  },
  {
   "cell_type": "code",
   "execution_count": 35,
   "id": "c0fe9eeb",
   "metadata": {
    "colab": {
     "base_uri": "https://localhost:8080/",
     "height": 470
    },
    "id": "c0fe9eeb",
    "outputId": "eb575b05-1d02-4de4-a959-2288f0338c46"
   },
   "outputs": [
    {
     "name": "stdout",
     "output_type": "stream",
     "text": [
      "Experiment for normal distribution\n",
      "   Sample size  GK01 quantile  Inverse cdf\n",
      "0           10       0.796927     1.281552\n",
      "1          100       1.200481     1.281552\n",
      "2         1000       1.300741     1.281552\n",
      "3         5000       1.326728     1.281552\n",
      "4        10000       1.267038     1.281552\n",
      "5        50000       1.327829     1.281552\n",
      "6       100000       1.304456     1.281552\n",
      "7       500000       1.307314     1.281552\n",
      "8      1000000       1.300621     1.281552\n"
     ]
    },
    {
     "data": {
      "image/png": "[encoded data removed]",
      "text/plain": [
       "<Figure size 432x288 with 1 Axes>"
      ]
     },
     "metadata": {
      "needs_background": "light"
     },
     "output_type": "display_data"
    }
   ],
   "source": [
    "from scipy.stats import norm, uniform, logistic, expon\n",
    "\n",
    "def experiment(distribution, inverse_cdf, q):\n",
    "    \"\"\"\n",
    "    Conduct the measures of q-th quantile on samples of given distribution with the different sizes\n",
    "    And compare it to the inverse cdf of this distribution\n",
    "\n",
    "    :param distribution: a numpy.random function that generates a distribution, e.g. np.random.normal\n",
    "    :param inverse_cdf: a scipy.stats function that calculates an inverse cdf of the previous distribution, e.g. scipy.stats.norm.ppf\n",
    "    :param q: q-th quantile for which to conduct an analysis\n",
    "    \"\"\"\n",
    "    gk01_measure = []\n",
    "    np_measure = []\n",
    "    sample_sizes = np.array([10, 100, 1000, 5000, 10000, 50000, 100000, 500000, 1000000])\n",
    "\n",
    "    for n in sample_sizes:\n",
    "      # Create a sample from the given distribution\n",
    "        data = distribution(size=n).tolist()\n",
    "\n",
    "        # Compute q-quantile for the given data\n",
    "        gk = GK01QuantileAlgorithm(0.01)\n",
    "        gk.add_multiple_items(data)\n",
    "        gk01_measure.append(gk.compute_quantile(q))\n",
    "    \n",
    "    # Create a line y=inverse_cdf(q)\n",
    "    inv = [inverse_cdf(q)] * len(sample_sizes)\n",
    "\n",
    "    # Print the table of the received data\n",
    "    df = pd.DataFrame({'Sample size': sample_sizes, 'GK01 quantile': gk01_measure, 'Inverse cdf': inv})\n",
    "    print(df)\n",
    "\n",
    "    # Plot the dependancy of the computed quantile on the sample size\n",
    "    plt.plot(sample_sizes, gk01_measure)\n",
    "    plt.plot(sample_sizes, inv)\n",
    "\n",
    "    plt.legend(['Inverse CDF', 'GK01', 'NumPy'], loc=\"best\")\n",
    "    plt.ylabel('q-th quantile')\n",
    "    plt.xlabel('sample size')\n",
    "    plt.show()\n",
    "\n",
    "\n",
    "print(\"Experiment for normal distribution\")\n",
    "q = 0.9\n",
    "experiment(np.random.normal, norm.ppf, q)\n"
   ]
  },
  {
   "cell_type": "code",
   "execution_count": 33,
   "id": "MyUeeiayDabm",
   "metadata": {
    "colab": {
     "base_uri": "https://localhost:8080/",
     "height": 1000
    },
    "id": "MyUeeiayDabm",
    "outputId": "2c3a8dbd-ebb3-4e10-fd81-8f609177799a"
   },
   "outputs": [
    {
     "name": "stdout",
     "output_type": "stream",
     "text": [
      "Experiment for uniform distribution\n",
      "   Sample size  GK01 quantile  Inverse cdf\n",
      "0           10       0.905413          0.9\n",
      "1          100       0.925116          0.9\n",
      "2         1000       0.914806          0.9\n",
      "3         5000       0.903424          0.9\n",
      "4        10000       0.892900          0.9\n",
      "5        50000       0.898851          0.9\n",
      "6       100000       0.908185          0.9\n",
      "7       500000       0.901364          0.9\n",
      "8      1000000       0.901820          0.9\n"
     ]
    },
    {
     "data": {
      "image/png": "[encoded data removed]",
      "text/plain": [
       "<Figure size 432x288 with 1 Axes>"
      ]
     },
     "metadata": {
      "needs_background": "light"
     },
     "output_type": "display_data"
    },
    {
     "name": "stdout",
     "output_type": "stream",
     "text": [
      "\n",
      "Experiment for logistic distribution\n",
      "   Sample size  GK01 quantile  Inverse cdf\n",
      "0           10       1.619653     2.197225\n",
      "1          100       2.357999     2.197225\n",
      "2         1000       2.238047     2.197225\n",
      "3         5000       2.214384     2.197225\n",
      "4        10000       2.296148     2.197225\n",
      "5        50000       2.234547     2.197225\n",
      "6       100000       2.241548     2.197225\n",
      "7       500000       2.212600     2.197225\n",
      "8      1000000       2.243928     2.197225\n"
     ]
    },
    {
     "data": {
      "image/png": "[encoded data removed]",
      "text/plain": [
       "<Figure size 432x288 with 1 Axes>"
      ]
     },
     "metadata": {
      "needs_background": "light"
     },
     "output_type": "display_data"
    },
    {
     "name": "stdout",
     "output_type": "stream",
     "text": [
      "\n",
      "Experiment for exponential distribution\n",
      "   Sample size  GK01 quantile  Inverse cdf\n",
      "0           10       1.692263     2.302585\n",
      "1          100       2.502691     2.302585\n",
      "2         1000       2.242187     2.302585\n",
      "3         5000       2.287960     2.302585\n",
      "4        10000       2.365400     2.302585\n",
      "5        50000       2.327268     2.302585\n",
      "6       100000       2.370702     2.302585\n",
      "7       500000       2.321724     2.302585\n",
      "8      1000000       2.256214     2.302585\n"
     ]
    },
    {
     "data": {
      "image/png": "[encoded data removed]",
      "text/plain": [
       "<Figure size 432x288 with 1 Axes>"
      ]
     },
     "metadata": {
      "needs_background": "light"
     },
     "output_type": "display_data"
    }
   ],
   "source": [
    "# Repeat the experiment for uniform, logistic and exponential distributions\n",
    "print(\"Experiment for uniform distribution\")\n",
    "experiment(np.random.uniform, uniform.ppf, q)\n",
    "\n",
    "print(\"\\nExperiment for logistic distribution\")\n",
    "experiment(np.random.logistic, logistic.ppf, q)\n",
    "\n",
    "print(\"\\nExperiment for exponential distribution\")\n",
    "experiment(np.random.exponential, expon.ppf, q)"
   ]
  },
  {
   "cell_type": "markdown",
   "id": "00cae979",
   "metadata": {
    "id": "00cae979"
   },
   "source": [
    "Perform an experiment that shows the main purpose of the algorithm. \n",
    "\n",
    "For example, some algorithms are created especially for time series data, so you should show that your algorithm is working in time series environment properly.\n",
    "\n",
    "GK01 algorithm is Deterministic and Streaming. Determenistic means that several executions on the same dataset with the same query will give the same result. Streaming algorithms can compute a quantile at any moment after the first datapoint is received, while data elements arrive to it one-by-one. \n",
    "\n",
    "To show this properties, let's create a random sample and run an algorithm several times on it. During execution let's ask an algorithm to calculate some quantile. As GK01 is streaming, it will give the answers on each request, and as it is determenistic, this answers will be the same. "
   ]
  },
  {
   "cell_type": "code",
   "execution_count": 34,
   "id": "19dedcae",
   "metadata": {
    "colab": {
     "base_uri": "https://localhost:8080/"
    },
    "id": "19dedcae",
    "outputId": "03b7a956-0dbf-4db1-ff14-aa8543e5702e"
   },
   "outputs": [
    {
     "name": "stdout",
     "output_type": "stream",
     "text": [
      "             0           1           2           3           4  Equal answers\n",
      "0    62.047767   62.047767   62.047767   62.047767   62.047767           True\n",
      "1    74.467200   74.467200   74.467200   74.467200   74.467200           True\n",
      "2    83.420720   83.420720   83.420720   83.420720   83.420720           True\n",
      "3    91.616757   91.616757   91.616757   91.616757   91.616757           True\n",
      "4    99.404728   99.404728   99.404728   99.404728   99.404728           True\n",
      "5   106.918206  106.918206  106.918206  106.918206  106.918206           True\n",
      "6   116.692734  116.692734  116.692734  116.692734  116.692734           True\n",
      "7   124.606391  124.606391  124.606391  124.606391  124.606391           True\n",
      "8   138.760427  138.760427  138.760427  138.760427  138.760427           True\n",
      "9    63.246862   63.246862   63.246862   63.246862   63.246862           True\n",
      "10   74.467200   74.467200   74.467200   74.467200   74.467200           True\n",
      "11   84.493361   84.493361   84.493361   84.493361   84.493361           True\n",
      "12   91.616757   91.616757   91.616757   91.616757   91.616757           True\n",
      "13   99.404728   99.404728   99.404728   99.404728   99.404728           True\n",
      "14  108.281760  108.281760  108.281760  108.281760  108.281760           True\n",
      "\n",
      "Results of the experiment\n",
      "Streaming: True\n",
      "Determenistic: True\n"
     ]
    }
   ],
   "source": [
    "# Create a random sample with a nornal distribution\n",
    "data = np.random.normal(100,30,15000).tolist()\n",
    "\n",
    "# Runs will store the results of computing quantiles on different runs of GK01\n",
    "runs ={}\n",
    "quantiles = [q/10 for q in range(1,10)]\n",
    "\n",
    "# Run algorithm several times\n",
    "for n in range(5):\n",
    "    gk = GK01QuantileAlgorithm(0.01)\n",
    "    runs[n] = []\n",
    "    for i in range(15000):\n",
    "        # Add items like in a stream: one-by-one\n",
    "        gk.add_item(data[i])\n",
    "        # Compute quantile at some random point of time\n",
    "        if (i+1)%1000==0:\n",
    "            runs[n].append(gk.compute_quantile(quantiles[i % len(quantiles)]))\n",
    "\n",
    "# Show the results of computing quantiles on different runs of GK01\n",
    "df = pd.DataFrame(runs)\n",
    "df['Equal answers'] = df.eq(df.iloc[:, 0], axis=0).all(1)\n",
    "print(df)\n",
    "\n",
    "print(\"\\nResults of the experiment\")\n",
    "# Check if data contains a null value\n",
    "print(\"Streaming:\", df.isnull().sum().sum()==0)\n",
    "\n",
    "# Check whether all answers to each request are equal\n",
    "print(\"Determenistic:\", (df['Equal answers'] == True).sum()==len(df.index))"
   ]
  }
 ],
 "metadata": {
  "colab": {
   "provenance": []
  },
  "kernelspec": {
   "display_name": "Python 3 (ipykernel)",
   "language": "python",
   "name": "python3"
  },
  "language_info": {
   "codemirror_mode": {
    "name": "ipython",
    "version": 3
   },
   "file_extension": ".py",
   "mimetype": "text/x-python",
   "name": "python",
   "nbconvert_exporter": "python",
   "pygments_lexer": "ipython3",
   "version": "3.9.13"
  }
 },
 "nbformat": 4,
 "nbformat_minor": 5
}
